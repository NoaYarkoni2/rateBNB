{
 "cells": [
  {
   "cell_type": "code",
   "execution_count": null,
   "id": "b7a7fbc3",
   "metadata": {},
   "outputs": [],
   "source": [
    "pip install selenium"
   ]
  },
  {
   "cell_type": "code",
   "execution_count": null,
   "id": "bc34a5ba",
   "metadata": {},
   "outputs": [],
   "source": [
    "import selenium\n",
    "from selenium import webdriver\n",
    "from selenium.webdriver.common.keys import Keys\n",
    "from selenium.webdriver.support import expected_conditions as EC\n",
    "from selenium.webdriver.common.by import By\n",
    "from selenium.webdriver.support.wait import WebDriverWait\n",
    "import time\n",
    "import pandas as pd\n",
    "import numpy as np\n",
    "import warnings\n",
    "import sys\n",
    "import os\n",
    "import collections\n",
    "import csv\n",
    "import matplotlib as mpl\n",
    "import matplotlib.pyplot as plt\n",
    "import seaborn as sns\n",
    "from sklearn.neighbors import KNeighborsClassifier\n",
    "from sklearn.model_selection import cross_val_score\n",
    "from sklearn.model_selection import GridSearchCV\n",
    "from sklearn.metrics import make_scorer\n",
    "import sklearn\n",
    "from sklearn import linear_model, metrics, preprocessing\n",
    "from sklearn.preprocessing import StandardScaler, MinMaxScaler\n",
    "from sklearn.linear_model import LogisticRegression, LinearRegression\n",
    "from sklearn.metrics import r2_score, f1_score\n",
    "from sklearn.model_selection import train_test_split\n",
    "from sklearn import metrics\n",
    "from sklearn.preprocessing import MinMaxScaler, StandardScaler, normalize\n",
    "warnings.filterwarnings('ignore')"
   ]
  },
  {
   "cell_type": "code",
   "execution_count": null,
   "id": "f6148f35",
   "metadata": {},
   "outputs": [],
   "source": [
    "driver = webdriver.Chrome('C:/Users/chromedriver.exe')\n",
    "driver.get(\"https://www.airbnb.com/\")\n",
    "mainURL = driver.current_url"
   ]
  },
  {
   "cell_type": "code",
   "execution_count": null,
   "id": "a3ae7bd1",
   "metadata": {},
   "outputs": [],
   "source": [
    "city_in_israel = []\n",
    "star_rate = []\n",
    "guests_number = []\n",
    "bedroom_number = []\n",
    "beds_number = []\n",
    "baths_number = []\n",
    "price_for_night = []\n",
    "cleanliness_rate = []\n",
    "communication_rate = []\n",
    "check_in_rate = []\n",
    "accuracy_rate = []\n",
    "location_rate = []\n",
    "value_rate = []\n",
    "balcony = []\n",
    "wifi = []\n",
    "tv = []"
   ]
  },
  {
   "cell_type": "code",
   "execution_count": null,
   "id": "a7058a9f",
   "metadata": {},
   "outputs": [],
   "source": [
    "cities = [\"Tel Aviv-Yafo\", \"Jerusalem\", \"Herzliya\", \"Eilat\", \"Modi'in-Maccabim-Re'ut\", \"Rishon LeTsiyon\", \"Holon\", \"Ramat Gan\", \"Haifa\", \"Natania\", \"Ra'anana\"]\n",
    "\n",
    "for city in cities:\n",
    "    searchbox = driver.find_element_by_xpath(\"//input[@placeholder='Where are you going?']\")\n",
    "    searchbox.clear()\n",
    "    keyword = city + \" ,Israel\"\n",
    "    searchbox.send_keys(keyword)\n",
    "    searchbox.send_keys(Keys.ENTER)\n",
    "    time.sleep(10)\n",
    "    driver.find_element_by_xpath(\"//button[@class = '_1mzhry13']\").click()\n",
    "    time.sleep(5)\n",
    "    \n",
    "    currentURL = driver.current_url\n",
    "    curr_page = 1\n",
    "    for curr_page in range(15):\n",
    "        lnks = driver.find_elements_by_tag_name(\"a\")\n",
    "        list_of_url = []\n",
    "        for lnk in lnks:\n",
    "            list_of_url.append(lnk.get_attribute('href'))\n",
    "\n",
    "        filter_array = []\n",
    "        filter_array = list(filter(lambda x: x.startswith('https://www.airbnb.com/rooms'), list_of_url))\n",
    "        filter_array_w_dupli = dict.fromkeys(filter_array)\n",
    "        for i in filter_array_w_dupli:\n",
    "            driver.get(i)\n",
    "            time.sleep(5)\n",
    "            try:\n",
    "                c = driver.find_element_by_xpath(\"//span[@class = '_pbq7fmm']\").text\n",
    "                city_in_israel.append(c)\n",
    "            except:\n",
    "                city_in_israel.append(\"Nan\")\n",
    "\n",
    "            try:\n",
    "                s = driver.find_element_by_xpath(\"//span[@class = '_1ne5r4rt']\").text\n",
    "                star_rate.append(s)\n",
    "            except:\n",
    "                star_rate.append(\"Nan\")\n",
    "\n",
    "            try:\n",
    "                g = driver.find_element_by_class_name('_194e2vt2').text\n",
    "                x = g.split('·')\n",
    "                guests_num=(x[0]).split(' ')\n",
    "                b_num=(x[1]).split(' ')\n",
    "                beds_num=(x[2]).split(' ')\n",
    "                baths_num=(x[3]).split(' ')   \n",
    "                guests_number.append(g[0])\n",
    "                bedroom_number.append(b_num[1])\n",
    "                beds_number.append(beds_num[1])\n",
    "                baths_number.append(baths_num[1])\n",
    "            except:\n",
    "                guests_number.append(\"Nan\")\n",
    "                bedroom_number.append(\"Nan\")\n",
    "                beds_number.append(\"Nan\")\n",
    "                baths_number.append(\"Nan\")\n",
    "            \n",
    "            try:\n",
    "                price = driver.find_elements_by_class_name(\"_tyxjp1\")\n",
    "                price_clean = price[1].text.split('₪')\n",
    "                price_for_night.append(price_clean[1])\n",
    "                price.clear()\n",
    "            except:\n",
    "                price_for_night.append(\"Nan\")\n",
    "                \n",
    "            l = driver.find_elements_by_class_name(\"_4oybiu\")\n",
    "            if len(l) == 6:\n",
    "                cleanliness_rate.append(l[0].text) \n",
    "                accuracy_rate.append(l[1].text)  \n",
    "                communication_rate.append(l[2].text)   \n",
    "                location_rate.append(l[3].text)  \n",
    "                check_in_rate.append(l[4].text)  \n",
    "                value_rate.append(l[5].text)  \n",
    "                l.clear()\n",
    "            else:\n",
    "                cleanliness_rate.append(\"Nan\") \n",
    "                accuracy_rate.append(\"Nan\")  \n",
    "                communication_rate.append(\"Nan\")   \n",
    "                location_rate.append(\"Nan\")  \n",
    "                check_in_rate.append(\"Nan\")  \n",
    "                value_rate.append(\"Nan\")\n",
    "                \n",
    "            b = driver.find_element_by_xpath(\"//button[@class = 'b1k5q1b3 v18vkvko dir dir-ltr']\").click()\n",
    "            time.sleep(3)\n",
    "            if driver.find_elements_by_xpath(\"//*[contains(text(), 'balcony')]\"):\n",
    "                balcony.append(\"yes\")\n",
    "            elif driver.find_elements_by_xpath(\"//*[contains(text(), 'Balcony')]\"):\n",
    "                balcony.append(\"yes\")\n",
    "            else:\n",
    "                balcony.append(\"no\")\n",
    "\n",
    "            if driver.find_elements_by_xpath(\"//*[contains(text(), 'Wifi')]\"):\n",
    "                wifi.append(\"yes\")\n",
    "            else:\n",
    "                wifi.append(\"no\")\n",
    "\n",
    "            if driver.find_elements_by_xpath(\"//*[contains(text(), 'TV')]\"):\n",
    "                tv.append(\"yes\")\n",
    "            else:\n",
    "                tv.append(\"no\")\n",
    "\n",
    "        driver.get(currentURL)\n",
    "        time.sleep(5)\n",
    "        try:\n",
    "            driver.find_element_by_class_name('_1bfat5l').click()\n",
    "            time.sleep(3)\n",
    "            currentURL = driver.current_url\n",
    "            curr_page +=1\n",
    "        except:\n",
    "            pass\n",
    "        \n",
    "        if curr_page == 15:\n",
    "            driver.get(mainURL)\n",
    "            time.sleep(3)\n",
    "            curr_page +=1\n",
    "\n",
    "    print(city_in_israel)\n",
    "    print(star_rate)\n",
    "    print(guests_number)\n",
    "    print(bedroom_number)\n",
    "    print(beds_number)\n",
    "    print(baths_number)\n",
    "    print(price_for_night)\n",
    "    print(cleanliness_rate)\n",
    "    print(communication_rate)\n",
    "    print(check_in_rate)\n",
    "    print(accuracy_rate)\n",
    "    print(location_rate)\n",
    "    print(value_rate)\n",
    "    print(balcony)\n",
    "    print(wifi)\n",
    "    print(tv)"
   ]
  },
  {
   "cell_type": "code",
   "execution_count": null,
   "id": "176445a5",
   "metadata": {},
   "outputs": [],
   "source": [
    "df = pd.DataFrame({'city_in_israel':city_in_israel, 'star_rate':star_rate, 'guests_number':guests_number, 'bedroom_number':bedroom_number, 'beds_number':beds_number, 'baths_number':baths_number, 'price_for_night':price_for_night, 'cleanliness_rate':cleanliness_rate, 'communication_rate':communication_rate, 'check_in_rate':check_in_rate, 'accuracy_rate':accuracy_rate, 'location_rate':location_rate, 'value_rate':value_rate, 'balcony':balcony, 'wifi':wifi, 'tv':tv})"
   ]
  },
  {
   "cell_type": "code",
   "execution_count": null,
   "id": "7726553a",
   "metadata": {},
   "outputs": [],
   "source": [
    "df"
   ]
  },
  {
   "cell_type": "code",
   "execution_count": null,
   "id": "4e246b69",
   "metadata": {},
   "outputs": [],
   "source": [
    "df.to_csv(r'C:\\Users\\maoar\\FP\\city8.csv')"
   ]
  },
  {
   "cell_type": "code",
   "execution_count": null,
   "id": "530b60c6",
   "metadata": {},
   "outputs": [],
   "source": [
    "d1 = pd.read_csv(\"city1.csv\")\n",
    "d2 = pd.read_csv(\"city2.csv\")\n",
    "d3 = pd.read_csv(\"city3.csv\")\n",
    "d4 = pd.read_csv(\"city4.csv\")\n",
    "d5 = pd.read_csv(\"city5.csv\")\n",
    "d6 = pd.read_csv(\"city6.csv\")\n",
    "d7 = pd.read_csv(\"city7.csv\")\n",
    "d8 = pd.read_csv(\"city8.csv\")"
   ]
  },
  {
   "cell_type": "code",
   "execution_count": null,
   "id": "f7de29c4",
   "metadata": {},
   "outputs": [],
   "source": [
    "df = pd.concat([d1,d2,d3,d4,d5,d6,d7,d8])"
   ]
  },
  {
   "cell_type": "code",
   "execution_count": null,
   "id": "c0272180",
   "metadata": {},
   "outputs": [],
   "source": [
    "df"
   ]
  },
  {
   "cell_type": "code",
   "execution_count": null,
   "id": "5736534b",
   "metadata": {},
   "outputs": [],
   "source": [
    "df_clean = df.copy()\n",
    "df_clean.drop(columns=['Unnamed: 0'], axis = 1, inplace=True)\n",
    "df_clean"
   ]
  },
  {
   "cell_type": "code",
   "execution_count": null,
   "id": "3a7e705b",
   "metadata": {},
   "outputs": [],
   "source": [
    "df_clean.duplicated().sum()"
   ]
  },
  {
   "cell_type": "code",
   "execution_count": null,
   "id": "ae1adb35",
   "metadata": {},
   "outputs": [],
   "source": [
    "df_clean.drop_duplicates(inplace=True)\n",
    "df_clean"
   ]
  },
  {
   "cell_type": "code",
   "execution_count": null,
   "id": "b77ab63b",
   "metadata": {},
   "outputs": [],
   "source": [
    "df_clean = df_clean.replace('Nan',np.nan)\n",
    "df_clean"
   ]
  },
  {
   "cell_type": "code",
   "execution_count": null,
   "id": "005cc295",
   "metadata": {},
   "outputs": [],
   "source": [
    "df_clean['guests_number'].fillna(df_clean['guests_number'].mode()[0], inplace=True)\n",
    "df_clean['bedroom_number'].fillna(df_clean['bedroom_number'].mode()[0], inplace=True)\n",
    "df_clean['beds_number'].fillna(df_clean['beds_number'].mode()[0], inplace=True)\n",
    "df_clean['baths_number'].fillna(df_clean['baths_number'].mode()[0], inplace=True)\n",
    "df_clean['cleanliness_rate'].fillna(df_clean['cleanliness_rate'].mode()[0], inplace=True)\n",
    "df_clean['price_for_night'].fillna(df_clean['price_for_night'].mode()[0], inplace=True)\n",
    "df_clean['communication_rate'].fillna(df_clean['communication_rate'].mode()[0], inplace=True)\n",
    "df_clean['check_in_rate'].fillna(df_clean['check_in_rate'].mode()[0], inplace=True)\n",
    "df_clean['accuracy_rate'].fillna(df_clean['accuracy_rate'].mode()[0], inplace=True)\n",
    "df_clean['location_rate'].fillna(df_clean['location_rate'].mode()[0], inplace=True)\n",
    "df_clean['value_rate'].fillna(df_clean['value_rate'].mode()[0], inplace=True)\n",
    "df_clean['balcony'].fillna(df_clean['balcony'].mode()[0], inplace=True)\n",
    "df_clean['wifi'].fillna(df_clean['wifi'].mode()[0], inplace=True)\n",
    "df_clean['tv'].fillna(df_clean['tv'].mode()[0], inplace=True)\n",
    "df_clean['star_rate'].fillna(df_clean['star_rate'].mode()[0], inplace=True)\n",
    "df_clean"
   ]
  },
  {
   "cell_type": "code",
   "execution_count": null,
   "id": "6759cf24",
   "metadata": {},
   "outputs": [],
   "source": [
    "df_clean = df_clean.replace('Studio',1)\n",
    "df_clean = df_clean.replace('Half-bath',0.5)\n",
    "df_clean"
   ]
  },
  {
   "cell_type": "code",
   "execution_count": null,
   "id": "94a8623d",
   "metadata": {},
   "outputs": [],
   "source": [
    "df_clean['guests_number'] = df_clean['guests_number'].astype(str).astype(int)\n",
    "df_clean['bedroom_number'] = df_clean['bedroom_number'].astype(str).astype(int)\n",
    "df_clean['beds_number'] = df_clean['beds_number'].astype(str).astype(int)\n",
    "df_clean['baths_number'] = df_clean['baths_number'].astype(str).astype(float)\n",
    "df_clean['cleanliness_rate'] = df_clean['cleanliness_rate'].astype(str).astype(float)\n",
    "df_clean['communication_rate'] = df_clean['communication_rate'].astype(str).astype(float)\n",
    "df_clean['check_in_rate'] = df_clean['check_in_rate'].astype(str).astype(float)\n",
    "df_clean['accuracy_rate'] = df_clean['accuracy_rate'].astype(str).astype(float)\n",
    "df_clean['location_rate'] = df_clean['location_rate'].astype(str).astype(float)\n",
    "df_clean['value_rate'] = df_clean['value_rate'].astype(str).astype(float)\n",
    "df_clean.info()"
   ]
  },
  {
   "cell_type": "code",
   "execution_count": null,
   "id": "69365c36",
   "metadata": {},
   "outputs": [],
   "source": [
    "df_clean['star_rate'].astype(str)\n",
    "df_clean['star_rate_clean'] = df_clean['star_rate'].str.split(' ').str[0]\n",
    "df_clean.drop(columns=['star_rate'], axis = 1, inplace=True)"
   ]
  },
  {
   "cell_type": "code",
   "execution_count": null,
   "id": "8b0fc05b",
   "metadata": {},
   "outputs": [],
   "source": [
    "df_clean['star_rate_clean'] = df_clean['star_rate_clean'].astype(str).astype(float)"
   ]
  },
  {
   "cell_type": "code",
   "execution_count": null,
   "id": "70188568",
   "metadata": {},
   "outputs": [],
   "source": [
    "df_clean['price_for_night'] = df_clean['price_for_night'].replace('[\\,]', '', regex=True).astype(int)\n",
    "df_clean.info()"
   ]
  },
  {
   "cell_type": "code",
   "execution_count": null,
   "id": "871da37c",
   "metadata": {},
   "outputs": [],
   "source": [
    "df_clean = df_clean.replace('yes',1)\n",
    "df_clean = df_clean.replace('no',0)\n",
    "df_clean"
   ]
  },
  {
   "cell_type": "code",
   "execution_count": null,
   "id": "9551a936",
   "metadata": {},
   "outputs": [],
   "source": [
    "df_clean['balcony'] = df_clean['balcony'].astype(str).astype(int)\n",
    "df_clean['wifi'] = df_clean['wifi'].astype(str).astype(int)\n",
    "df_clean['tv'] = df_clean['tv'].astype(str).astype(int)\n",
    "df_clean.info()"
   ]
  },
  {
   "cell_type": "code",
   "execution_count": null,
   "id": "f2c97459",
   "metadata": {},
   "outputs": [],
   "source": [
    "df_clean"
   ]
  },
  {
   "cell_type": "code",
   "execution_count": null,
   "id": "579bf62c",
   "metadata": {},
   "outputs": [],
   "source": [
    "df_clean['city'] = df_clean['city_in_israel'].str[:2]\n",
    "df_clean.drop(columns=['city_in_israel'], axis = 1, inplace=True)\n",
    "df_clean"
   ]
  },
  {
   "cell_type": "code",
   "execution_count": null,
   "id": "b7cf4d2d",
   "metadata": {},
   "outputs": [],
   "source": [
    "from sklearn.preprocessing import LabelEncoder\n",
    "df_clean[\"city\"] = LabelEncoder().fit_transform(df_clean[\"city\"])\n",
    "df_clean"
   ]
  },
  {
   "cell_type": "code",
   "execution_count": null,
   "id": "cfed4289",
   "metadata": {},
   "outputs": [],
   "source": [
    "outliers_length = plt.figure(figsize=(18, 4))\n",
    "sns.boxplot(df_clean['price_for_night'], whis=6, color=\"#CD6155\")\n",
    "plt.savefig('outliers.png', transparent = True)"
   ]
  },
  {
   "cell_type": "code",
   "execution_count": null,
   "id": "f9ec4731",
   "metadata": {},
   "outputs": [],
   "source": [
    "Q1 = np.percentile(df_clean['price_for_night'], 25)\n",
    "Q3 = np.percentile(df_clean['price_for_night'], 75)\n",
    "IQR = Q3 - Q1\n",
    "outliers_length = df_clean[(df_clean['price_for_night'] < Q1 - 1.5 * IQR) | (df_clean['price_for_night'] > Q3 + 10 * IQR)].index\n",
    "len(outliers_length)"
   ]
  },
  {
   "cell_type": "code",
   "execution_count": null,
   "id": "86710bfc",
   "metadata": {},
   "outputs": [],
   "source": [
    "df_clean.price_for_night[df_clean.price_for_night>900]= np.nan\n",
    "outliers_length = plt.figure(figsize=(18, 4))\n",
    "sns.boxplot(df_clean['price_for_night'], whis=6, color=\"#CD6155\")\n",
    "plt.savefig('outliers.png', transparent = True)"
   ]
  },
  {
   "cell_type": "code",
   "execution_count": null,
   "id": "b4f76c22",
   "metadata": {},
   "outputs": [],
   "source": [
    "ax1 = df_clean.plot.scatter(x='guests_number',y='bedroom_number',c='DarkBlue')\n",
    "plt.savefig('scatter.png', transparent = True)"
   ]
  },
  {
   "cell_type": "code",
   "execution_count": null,
   "id": "8213c1d7",
   "metadata": {},
   "outputs": [],
   "source": [
    "df_clean = df_clean.dropna()\n",
    "df_clean.price_for_night.hist(bins=30, grid = False, rwidth=0.8, color ='pink')\n",
    "plt.xlabel('price_for_night')\n",
    "plt.ylabel('amount')\n",
    "plt.title('hist_city_price')\n",
    "plt.savefig('hist_chart_magnitude.png', transparent = True)\n",
    "plt.show()"
   ]
  },
  {
   "cell_type": "code",
   "execution_count": null,
   "id": "1a5a1209",
   "metadata": {
    "scrolled": true
   },
   "outputs": [],
   "source": [
    "ax = plt.axes()\n",
    "ax.pie(df_clean['wifi'].value_counts().tolist(), labels=['yes(1)', 'no (0)'], shadow=True, startangle=180, explode= (0.04, 0.04), autopct='%1.2f%%')\n",
    "plt.title('have wifi?')\n",
    "plt.savefig('wifi.png', transparent = True)\n",
    "plt.show()"
   ]
  },
  {
   "cell_type": "code",
   "execution_count": null,
   "id": "10fe1fd3",
   "metadata": {},
   "outputs": [],
   "source": [
    "df_clean['city'].corr(df_clean['star_rate_clean'])"
   ]
  },
  {
   "cell_type": "code",
   "execution_count": null,
   "id": "295b934b",
   "metadata": {},
   "outputs": [],
   "source": [
    "df_clean.drop(columns=['wifi'], axis = 1, inplace=True)\n",
    "df_clean.drop(columns=['city'], axis = 1, inplace=True)\n",
    "df_clean"
   ]
  },
  {
   "cell_type": "code",
   "execution_count": null,
   "id": "36295a23",
   "metadata": {
    "scrolled": true
   },
   "outputs": [],
   "source": [
    "X = df_clean[df_clean.columns[df_clean.columns != 'star_rate_clean']]\n",
    "y = df_clean['star_rate_clean']\n",
    "X_train, X_test, y_train, y_test = train_test_split(X, y, test_size=0.3, random_state=41)\n",
    "clf = LinearRegression().fit(X_train, y_train)\n",
    "y_pred = clf.predict(X_test)\n",
    "metrics.r2_score(y_test, y_pred)"
   ]
  }
 ],
 "metadata": {
  "kernelspec": {
   "display_name": "Python 3",
   "language": "python",
   "name": "python3"
  },
  "language_info": {
   "codemirror_mode": {
    "name": "ipython",
    "version": 3
   },
   "file_extension": ".py",
   "mimetype": "text/x-python",
   "name": "python",
   "nbconvert_exporter": "python",
   "pygments_lexer": "ipython3",
   "version": "3.8.8"
  }
 },
 "nbformat": 4,
 "nbformat_minor": 5
}
